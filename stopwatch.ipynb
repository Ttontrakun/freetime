{
 "cells": [
  {
   "cell_type": "code",
   "execution_count": 1,
   "metadata": {},
   "outputs": [
    {
     "name": "stdout",
     "output_type": "stream",
     "text": [
      "โปรแกรมจับเวลา!\n",
      "เวลาที่ใช้: 0.60 วินาที\n"
     ]
    }
   ],
   "source": [
    "import time\n",
    "\n",
    "def stopwatch():\n",
    "    print(\"โปรแกรมจับเวลา!\")\n",
    "    input(\"กด Enter เพื่อเริ่มจับเวลา...\")\n",
    "    \n",
    "    start_time = time.time()\n",
    "    input(\"กด Enter อีกครั้งเพื่อหยุดจับเวลา...\")\n",
    "    \n",
    "    end_time = time.time()\n",
    "    elapsed_time = end_time - start_time\n",
    "    \n",
    "    print(f\"เวลาที่ใช้: {elapsed_time:.2f} วินาที\")\n",
    "\n",
    "stopwatch()\n"
   ]
  },
  {
   "cell_type": "code",
   "execution_count": null,
   "metadata": {},
   "outputs": [
    {
     "name": "stdout",
     "output_type": "stream",
     "text": [
      "โปรแกรมทำนายชีวิตในวันนี้!\n",
      "คำทำนาย: วันนี้คุณอาจจะไม่ได้รับความช่วยเหลือจากคนใกล้ตัว\n"
     ]
    }
   ],
   "source": [
    "import random\n",
    "\n",
    "def predict_life():\n",
    "    good_predictions = [\n",
    "        \"วันนี้คุณจะพบกับความสำเร็จ\",\n",
    "        \"วันนี้คุณจะได้รับข่าวดี\",\n",
    "        \"วันนี้คุณจะมีความสุขมาก\",\n",
    "        \"วันนี้คุณจะได้พบกับเพื่อนใหม่\",\n",
    "        \"วันนี้คุณจะได้รับคำชมจากคนรอบข้าง\",\n",
    "        \"วันนี้คุณจะมีโอกาสใหม่ๆ\",\n",
    "        \"วันนี้คุณจะได้เรียนรู้สิ่งใหม่ๆ\",\n",
    "        \"วันนี้คุณจะมีความก้าวหน้าในงาน\",\n",
    "        \"วันนี้คุณจะได้รับความช่วยเหลือจากคนใกล้ตัว\",\n",
    "        \"วันนี้คุณจะมีโชคดีในเรื่องการเงิน\"\n",
    "    ]\n",
    "    \n",
    "    bad_predictions = [\n",
    "        \"วันนี้คุณอาจจะพบกับความล้มเหลว\",\n",
    "        \"วันนี้คุณอาจจะได้รับข่าวร้าย\",\n",
    "        \"วันนี้คุณอาจจะมีความทุกข์\",\n",
    "        \"วันนี้คุณอาจจะมีปัญหากับเพื่อน\",\n",
    "        \"วันนี้คุณอาจจะถูกวิจารณ์จากคนรอบข้าง\",\n",
    "        \"วันนี้คุณอาจจะพลาดโอกาสดีๆ\",\n",
    "        \"วันนี้คุณอาจจะเจอเรื่องที่ไม่คาดคิด\",\n",
    "        \"วันนี้คุณอาจจะมีปัญหาในงาน\",\n",
    "        \"วันนี้คุณอาจจะไม่ได้รับความช่วยเหลือจากคนใกล้ตัว\",\n",
    "        \"วันนี้คุณอาจจะมีปัญหาเรื่องการเงิน\"\n",
    "    ]\n",
    "    \n",
    "    print(\"โปรแกรมทำนายชีวิตในวันนี้!\"\n",
    "    input(\"กด Enter เพื่อทำนายชีวิตของคุณวันนี้...\")\n",
    "    \n",
    "    prediction_type = random.choice(['good', 'bad'])\n",
    "    if prediction_type == 'good':\n",
    "        prediction = random.choice(good_predictions)\n",
    "    else:\n",
    "        prediction = random.choice(bad_predictions)\n",
    "    \n",
    "    print(f\"คำทำนาย: {prediction}\")\n",
    "\n",
    "\n",
    "predict_life()"
   ]
  }
 ],
 "metadata": {
  "kernelspec": {
   "display_name": "Python 3",
   "language": "python",
   "name": "python3"
  },
  "language_info": {
   "codemirror_mode": {
    "name": "ipython",
    "version": 3
   },
   "file_extension": ".py",
   "mimetype": "text/x-python",
   "name": "python",
   "nbconvert_exporter": "python",
   "pygments_lexer": "ipython3",
   "version": "3.13.1"
  }
 },
 "nbformat": 4,
 "nbformat_minor": 2
}
