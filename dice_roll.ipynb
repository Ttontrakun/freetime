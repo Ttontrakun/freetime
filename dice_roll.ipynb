{
 "cells": [
  {
   "cell_type": "code",
   "execution_count": null,
   "metadata": {},
   "outputs": [],
   "source": [
    "import random\n",
    "\n",
    "def dice_roll():\n",
    "    print(\"จำลองการขว้างลูกเต๋า!\")\n",
    "    input(\"กด Enter เพื่อขว้างลูกเต๋า...\")\n",
    "    \n",
    "    roll = random.randint(1, 6)\n",
    "    print(f\"คุณขว้างได้: {roll}\")\n",
    "\n",
    "dice_roll()\n"
   ]
  }
 ],
 "metadata": {
  "kernelspec": {
   "display_name": "Python 3",
   "language": "python",
   "name": "python3"
  },
  "language_info": {
   "name": "python",
   "version": "3.13.1"
  }
 },
 "nbformat": 4,
 "nbformat_minor": 2
}
